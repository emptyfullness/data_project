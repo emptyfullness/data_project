{
 "cells": [
  {
   "cell_type": "code",
   "execution_count": 1,
   "id": "b3666497",
   "metadata": {},
   "outputs": [],
   "source": [
    "import datetime as dt\n",
    "from pandas import read_excel\n",
    "from pandas import read_csv\n",
    "from pandas import concat\n",
    "from pandas import merge\n",
    "import pandas as pd\n",
    "import numpy as np\n",
    "from pandas import Series\n",
    "from pandas import DataFrame"
   ]
  },
  {
   "cell_type": "code",
   "execution_count": 3,
   "id": "d03a3492",
   "metadata": {},
   "outputs": [],
   "source": [
    "price_apt = read_excel('아파트(매매)_실거래가_20210802122921.xlsx',engine='openpyxl')\n",
    "danji_info = read_excel('서울아파트단지종합_ver1.xlsx',engine='openpyxl')"
   ]
  },
  {
   "cell_type": "code",
   "execution_count": 5,
   "id": "0f49ea7e",
   "metadata": {},
   "outputs": [
    {
     "name": "stdout",
     "output_type": "stream",
     "text": [
      "<class 'pandas.core.frame.DataFrame'>\n",
      "RangeIndex: 28598 entries, 0 to 28597\n",
      "Data columns (total 13 columns):\n",
      " #   Column    Non-Null Count  Dtype  \n",
      "---  ------    --------------  -----  \n",
      " 0   시군구       28598 non-null  object \n",
      " 1   번지        28583 non-null  object \n",
      " 2   본번        28594 non-null  float64\n",
      " 3   부번        28594 non-null  float64\n",
      " 4   단지명       28598 non-null  object \n",
      " 5   전용면적(㎡)   28598 non-null  float64\n",
      " 6   계약년월      28598 non-null  int64  \n",
      " 7   계약일       28598 non-null  int64  \n",
      " 8   거래금액(만원)  28598 non-null  int64  \n",
      " 9   층         28598 non-null  int64  \n",
      " 10  건축년도      28598 non-null  int64  \n",
      " 11  도로명       28598 non-null  object \n",
      " 12  해제사유발생일   681 non-null    float64\n",
      "dtypes: float64(4), int64(5), object(4)\n",
      "memory usage: 2.8+ MB\n"
     ]
    }
   ],
   "source": [
    "price_apt.info()"
   ]
  },
  {
   "cell_type": "code",
   "execution_count": 6,
   "id": "955ff902",
   "metadata": {},
   "outputs": [
    {
     "name": "stdout",
     "output_type": "stream",
     "text": [
      "<class 'pandas.core.frame.DataFrame'>\n",
      "RangeIndex: 2383 entries, 0 to 2382\n",
      "Data columns (total 37 columns):\n",
      " #   Column             Non-Null Count  Dtype  \n",
      "---  ------             --------------  -----  \n",
      " 0   명칭(단지코드)           2383 non-null   object \n",
      " 1   사용승인일              2383 non-null   object \n",
      " 2   동수 / 세대수           2383 non-null   object \n",
      " 3   면적별 세대현황(전용면적 기준)  2383 non-null   object \n",
      " 4   연면적                2383 non-null   object \n",
      " 5   주거전용면적             2383 non-null   object \n",
      " 6   주차대수               2383 non-null   object \n",
      " 7   CCTV대수             2383 non-null   float64\n",
      " 8   승강기대수              2383 non-null   int64  \n",
      " 9   시공사 / 시행사          2383 non-null   object \n",
      " 10  도로명주소              2307 non-null   object \n",
      " 11  법정동주소              2383 non-null   object \n",
      " 12  부대·복리시설            2383 non-null   object \n",
      " 13  지하철                2383 non-null   object \n",
      " 14  버스정류장              2383 non-null   object \n",
      " 15  교육시설               2383 non-null   object \n",
      " 16  편의시설               2383 non-null   object \n",
      " 17  K-apt 가입일          2383 non-null   object \n",
      " 18  건물구조               2383 non-null   object \n",
      " 19  경비관리               2383 non-null   object \n",
      " 20  관리방식               2383 non-null   object \n",
      " 21  관리사무소연락처(FAX)      2383 non-null   object \n",
      " 22  급수방식               2383 non-null   object \n",
      " 23  난방방식               2383 non-null   object \n",
      " 24  단지분류               2383 non-null   object \n",
      " 25  복도유형               2383 non-null   object \n",
      " 26  분양형태               2383 non-null   object \n",
      " 27  세대전기계약방식           2383 non-null   object \n",
      " 28  소독관리               2383 non-null   object \n",
      " 29  수전용량               2383 non-null   object \n",
      " 30  승강기관리형태            2383 non-null   object \n",
      " 31  일반관리               2383 non-null   object \n",
      " 32  전기안전관리자법정선임여부      2383 non-null   object \n",
      " 33  주차관제·홈네트워크         2383 non-null   object \n",
      " 34  청소관리               2383 non-null   object \n",
      " 35  홈페이지주소             2383 non-null   object \n",
      " 36  화재수신반방식            2383 non-null   object \n",
      "dtypes: float64(1), int64(1), object(35)\n",
      "memory usage: 689.0+ KB\n"
     ]
    }
   ],
   "source": [
    "danji_info.info()"
   ]
  },
  {
   "cell_type": "code",
   "execution_count": 7,
   "id": "354cde4c",
   "metadata": {},
   "outputs": [
    {
     "ename": "NameError",
     "evalue": "name 'df_info' is not defined",
     "output_type": "error",
     "traceback": [
      "\u001b[1;31m---------------------------------------------------------------------------\u001b[0m",
      "\u001b[1;31mNameError\u001b[0m                                 Traceback (most recent call last)",
      "\u001b[1;32m<ipython-input-7-42871fe57d3d>\u001b[0m in \u001b[0;36m<module>\u001b[1;34m\u001b[0m\n\u001b[1;32m----> 1\u001b[1;33m \u001b[0mprice_apt\u001b[0m\u001b[1;33m[\u001b[0m\u001b[1;34m'도로명'\u001b[0m\u001b[1;33m]\u001b[0m \u001b[1;33m=\u001b[0m \u001b[0mdf_info\u001b[0m\u001b[1;33m[\u001b[0m\u001b[1;34m'도로명'\u001b[0m\u001b[1;33m]\u001b[0m\u001b[1;33m.\u001b[0m\u001b[0mastype\u001b[0m\u001b[1;33m(\u001b[0m\u001b[1;34m'str'\u001b[0m\u001b[1;33m)\u001b[0m\u001b[1;33m\u001b[0m\u001b[1;33m\u001b[0m\u001b[0m\n\u001b[0m\u001b[0;32m      2\u001b[0m \u001b[0mdanji_info\u001b[0m\u001b[1;33m[\u001b[0m\u001b[1;34m'도로명주소'\u001b[0m\u001b[1;33m]\u001b[0m \u001b[1;33m=\u001b[0m \u001b[0mdanji_info\u001b[0m\u001b[1;33m[\u001b[0m\u001b[1;34m'도로명주소'\u001b[0m\u001b[1;33m]\u001b[0m\u001b[1;33m.\u001b[0m\u001b[0mastype\u001b[0m\u001b[1;33m(\u001b[0m\u001b[1;34m'str'\u001b[0m\u001b[1;33m)\u001b[0m\u001b[1;33m\u001b[0m\u001b[1;33m\u001b[0m\u001b[0m\n",
      "\u001b[1;31mNameError\u001b[0m: name 'df_info' is not defined"
     ]
    }
   ],
   "source": [
    "price_apt['도로명'] = price_apt['도로명'].astype('str')\n",
    "danji_info['도로명주소'] = danji_info['도로명주소'].astype('str')"
   ]
  },
  {
   "cell_type": "code",
   "execution_count": null,
   "id": "6cff36bb",
   "metadata": {},
   "outputs": [],
   "source": []
  }
 ],
 "metadata": {
  "kernelspec": {
   "display_name": "Python 3",
   "language": "python",
   "name": "python3"
  },
  "language_info": {
   "codemirror_mode": {
    "name": "ipython",
    "version": 3
   },
   "file_extension": ".py",
   "mimetype": "text/x-python",
   "name": "python",
   "nbconvert_exporter": "python",
   "pygments_lexer": "ipython3",
   "version": "3.8.8"
  }
 },
 "nbformat": 4,
 "nbformat_minor": 5
}
