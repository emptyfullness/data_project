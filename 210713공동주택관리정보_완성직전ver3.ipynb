{
 "cells": [
  {
   "cell_type": "markdown",
   "id": "e16c7de1",
   "metadata": {},
   "source": [
    "### 공동주택관리시스템 크롤링"
   ]
  },
  {
   "cell_type": "code",
   "execution_count": 1,
   "id": "aa0a01ef",
   "metadata": {},
   "outputs": [],
   "source": [
    "# ChromeDriver 자동 설치 모듈\n",
    "import chromedriver_autoinstaller\n",
    "# Chrome을 제어하기 위한 객체\n",
    "from selenium import webdriver\n",
    "# Chrome이 웹 페이지 로딩을 완료 할 때까지 최대 n초간 대기하는 기능.\n",
    "from selenium.webdriver.support.ui import WebDriverWait\n",
    "from bs4 import BeautifulSoup\n",
    "import pandas as pd\n",
    "from pandas import DataFrame\n",
    "# 파이썬 프로그램에 지정된 시간동안 랙을 거는 기능을 위해 사용\n",
    "import time\n",
    "#경우의 수\n",
    "import itertools\n",
    "import openpyxl"
   ]
  },
  {
   "cell_type": "code",
   "execution_count": 2,
   "id": "873a5501",
   "metadata": {
    "tags": []
   },
   "outputs": [
    {
     "data": {
      "text/plain": [
       "'c:\\\\python38\\\\lib\\\\site-packages\\\\chromedriver_autoinstaller\\\\91\\\\chromedriver.exe'"
      ]
     },
     "execution_count": 2,
     "metadata": {},
     "output_type": "execute_result"
    }
   ],
   "source": [
    "# 크롬드라이버 자동 설치\n",
    "chromedriver_autoinstaller.install()"
   ]
  },
  {
   "cell_type": "code",
   "execution_count": 3,
   "id": "ee875278",
   "metadata": {},
   "outputs": [],
   "source": [
    "# 크롬드라이버를 통해 크롬을 실행시킴\n",
    "# -> driver 객체는 Chrome 자체\n",
    "driver = webdriver.Chrome()\n",
    "# 크롬브라우저가 준비될 때 까지 최대 5초씩 대기\n",
    "driver.implicitly_wait(5)"
   ]
  },
  {
   "cell_type": "code",
   "execution_count": 4,
   "id": "a49d5119",
   "metadata": {},
   "outputs": [],
   "source": [
    "driver.get(\"http://www.k-apt.go.kr/kaptinfo/openkaptinfo.do\")\n",
    "# 페이지를 이동하는 동안 최대 3초간 대기\n",
    "time.sleep(3)"
   ]
  },
  {
   "cell_type": "code",
   "execution_count": 5,
   "id": "2073b0d2",
   "metadata": {},
   "outputs": [],
   "source": [
    "button = WebDriverWait(driver, 3).until(\n",
    "                lambda x: x.find_element_by_css_selector(\"select[class='combo_SIDO']\"))\n",
    "button.click()"
   ]
  },
  {
   "cell_type": "code",
   "execution_count": 6,
   "id": "b0e00dc6",
   "metadata": {},
   "outputs": [],
   "source": [
    "button = WebDriverWait(driver, 3).until(\n",
    "                lambda x: x.find_element_by_css_selector(\"option[value='11']\"))\n",
    "button.click()"
   ]
  },
  {
   "cell_type": "code",
   "execution_count": 7,
   "id": "a0b94f5a",
   "metadata": {},
   "outputs": [],
   "source": [
    "button = WebDriverWait(driver, 3).until(\n",
    "                lambda x: x.find_element_by_css_selector(\"select[class='combo_SGG']\"))\n",
    "button.click()"
   ]
  },
  {
   "cell_type": "code",
   "execution_count": 8,
   "id": "fe5f075c",
   "metadata": {},
   "outputs": [],
   "source": [
    "button = WebDriverWait(driver, 3).until(\n",
    "                lambda x: x.find_element_by_css_selector(\"option[value='680']\"))\n",
    "button.click()"
   ]
  },
  {
   "cell_type": "code",
   "execution_count": 9,
   "id": "293a5610",
   "metadata": {
    "tags": []
   },
   "outputs": [],
   "source": [
    "button = WebDriverWait(driver, 3).until(\n",
    "                lambda x: x.find_element_by_css_selector(\"select[class='combo_EMD']\"))\n",
    "button.click()"
   ]
  },
  {
   "cell_type": "code",
   "execution_count": 10,
   "id": "1323bde6",
   "metadata": {},
   "outputs": [],
   "source": [
    "button = WebDriverWait(driver, 3).until(\n",
    "                lambda x: x.find_element_by_css_selector(\"option[value='103']\"))\n",
    "button.click()"
   ]
  },
  {
   "cell_type": "code",
   "execution_count": 11,
   "id": "5737a2af",
   "metadata": {},
   "outputs": [],
   "source": [
    "button = WebDriverWait(driver, 3).until(\n",
    "                lambda x: x.find_element_by_css_selector(\"tr[id='1']\"))\n",
    "button.click()"
   ]
  },
  {
   "cell_type": "code",
   "execution_count": 12,
   "id": "22e1657f",
   "metadata": {},
   "outputs": [],
   "source": [
    "button = WebDriverWait(driver, 3).until(\n",
    "                lambda x: x.find_element_by_css_selector(\"img[src='/images/sub/tab_kaptinfo5_out.png']\"))\n",
    "button.click()"
   ]
  },
  {
   "cell_type": "code",
   "execution_count": 13,
   "id": "33def2b5",
   "metadata": {
    "tags": []
   },
   "outputs": [],
   "source": [
    "html = driver.page_source\n",
    "#print(html)"
   ]
  },
  {
   "cell_type": "code",
   "execution_count": 14,
   "id": "15e06855",
   "metadata": {
    "tags": []
   },
   "outputs": [],
   "source": [
    "soup = BeautifulSoup(html, \"html.parser\")\n",
    "#print(soup)"
   ]
  },
  {
   "cell_type": "code",
   "execution_count": 15,
   "id": "9491f38e",
   "metadata": {
    "tags": []
   },
   "outputs": [],
   "source": [
    "#종료하기전 동안 최대 2초간 대기\n",
    "time.sleep(2)\n",
    "driver.quit()"
   ]
  },
  {
   "cell_type": "code",
   "execution_count": 16,
   "id": "2c9a2cf6",
   "metadata": {},
   "outputs": [],
   "source": [
    "id = soup.find_all('td',id=True)\n",
    "#id"
   ]
  },
  {
   "cell_type": "code",
   "execution_count": 17,
   "id": "537b1121",
   "metadata": {},
   "outputs": [],
   "source": [
    "id_list = []\n",
    "for it in id:\n",
    "    # 각 원소(링크)에 속성들(attrs) 중에 id 속성이 있다면 그 값을 별도로 준비한 리스트에 추가\n",
    "    if \"id\" in it.attrs:\n",
    "        id_list.append(it['id'])\n",
    "\n",
    "#id_list"
   ]
  },
  {
   "cell_type": "code",
   "execution_count": 18,
   "id": "b2e45ebc",
   "metadata": {},
   "outputs": [],
   "source": [
    "name = soup.find_all('th',class_='type')\n",
    "#name"
   ]
  },
  {
   "cell_type": "code",
   "execution_count": 19,
   "id": "a6f9a1dd",
   "metadata": {},
   "outputs": [
    {
     "data": {
      "text/plain": [
       "['명칭(단지코드)',\n",
       " '단지분류',\n",
       " '법정동주소',\n",
       " '도로명주소',\n",
       " '분양형태',\n",
       " '관리방식',\n",
       " '난방방식',\n",
       " '복도유형',\n",
       " '연면적',\n",
       " '사용승인일',\n",
       " '동수 / 세대수',\n",
       " '주거전용면적',\n",
       " '시공사 / 시행사',\n",
       " '홈페이지주소',\n",
       " '관리사무소연락처(FAX)',\n",
       " 'K-apt 가입일',\n",
       " '면적별 세대현황(전용면적 기준)',\n",
       " '일반관리',\n",
       " '경비관리',\n",
       " '청소관리',\n",
       " '소독관리',\n",
       " '건물구조',\n",
       " '수전용량',\n",
       " '세대전기계약방식',\n",
       " '전기안전관리자법정선임여부',\n",
       " '화재수신반방식',\n",
       " '급수방식',\n",
       " '승강기관리형태',\n",
       " '승강기대수',\n",
       " '주차대수',\n",
       " '주차관제·홈네트워크',\n",
       " 'CCTV대수',\n",
       " '부대·복리시설',\n",
       " '버스정류장',\n",
       " '지하철',\n",
       " '편의시설',\n",
       " '교육시설']"
      ]
     },
     "execution_count": 19,
     "metadata": {},
     "output_type": "execute_result"
    }
   ],
   "source": [
    "컬럼명_list = []\n",
    "\n",
    "for i in name:\n",
    "    k = i.text.strip()\n",
    "    컬럼명_list.append(k)\n",
    "\n",
    "컬럼명_list"
   ]
  },
  {
   "cell_type": "code",
   "execution_count": 20,
   "id": "d7125408",
   "metadata": {},
   "outputs": [],
   "source": [
    "apt = []\n",
    "apt_dict = {}\n",
    "tmp = []\n",
    "data_list = []"
   ]
  },
  {
   "cell_type": "code",
   "execution_count": 21,
   "id": "4c03bf24",
   "metadata": {},
   "outputs": [
    {
     "data": {
      "text/plain": [
       "['LG개포자이아파트(A13593901)',\n",
       " '아파트',\n",
       " '서울특별시 강남구 개포동 12-2 엘지개포자이',\n",
       " '서울특별시 강남구 개포로109길 69',\n",
       " '분양',\n",
       " '자치관리',\n",
       " '지역난방',\n",
       " '계단식',\n",
       " '60,358.78㎡',\n",
       " '2004-06-17',\n",
       " '4 / 212 세대',\n",
       " '32,275.48㎡',\n",
       " '화엄건설 / LG건설',\n",
       " 'http://test',\n",
       " '024454721 ( 024454722 )',\n",
       " '2009-05-11',\n",
       " '60㎡ 이하:\\n- 세대\\n60㎡ ~ 85㎡ 이하:\\n- 세대\\n85㎡ ~ 135㎡ 이하:\\n84 세대\\n135㎡ 초과:\\n128 세대',\n",
       " '관리방식: 자치관리 / 인원: 6 / 계약업체: -',\n",
       " '관리방식: 위탁관리 / 인원: 7 / 계약업체: (주)에스텍시스템',\n",
       " '관리방식: 위탁관리 / 인원: 4 / 음식물처리방법: 음식물쓰레기종량제',\n",
       " '관리방식: 위탁관리 / 연간소독횟수: 12 / 소독방법: 분무식',\n",
       " '철근콘크리트구조',\n",
       " '1600 Kw',\n",
       " '종합계약',\n",
       " '상주선임',\n",
       " 'R형',\n",
       " '부스타방식',\n",
       " '위탁관리',\n",
       " '6',\n",
       " '지상: 19 / 지하: 483(총:502대)',\n",
       " '무',\n",
       " '58',\n",
       " '관리사무소, 노인정, 어린이놀이터, 휴게시설, 자전거보관소',\n",
       " '5분이내',\n",
       " '3호선 (대청, 5~10분이내)',\n",
       " '관공서(수서경찰서) 병원(삼성의료원) 공원(한마음공원)',\n",
       " '초등학교(대진) 중학교(중동중학교) 고등학교(중동고등학교)']"
      ]
     },
     "execution_count": 21,
     "metadata": {},
     "output_type": "execute_result"
    }
   ],
   "source": [
    "for i,v in enumerate(컬럼명_list) :\n",
    "    data = soup.select(\"#%s\"%id_list[i])\n",
    "    tmp.append(data)\n",
    "for i, in tmp :\n",
    "    data_list.append(i.text.strip())\n",
    "data_list"
   ]
  },
  {
   "cell_type": "code",
   "execution_count": 22,
   "id": "c4edf5bb",
   "metadata": {
    "tags": []
   },
   "outputs": [
    {
     "data": {
      "text/html": [
       "<div>\n",
       "<style scoped>\n",
       "    .dataframe tbody tr th:only-of-type {\n",
       "        vertical-align: middle;\n",
       "    }\n",
       "\n",
       "    .dataframe tbody tr th {\n",
       "        vertical-align: top;\n",
       "    }\n",
       "\n",
       "    .dataframe thead th {\n",
       "        text-align: right;\n",
       "    }\n",
       "</style>\n",
       "<table border=\"1\" class=\"dataframe\">\n",
       "  <thead>\n",
       "    <tr style=\"text-align: right;\">\n",
       "      <th></th>\n",
       "      <th>명칭(단지코드)</th>\n",
       "      <th>단지분류</th>\n",
       "      <th>법정동주소</th>\n",
       "      <th>도로명주소</th>\n",
       "      <th>분양형태</th>\n",
       "      <th>관리방식</th>\n",
       "      <th>난방방식</th>\n",
       "      <th>복도유형</th>\n",
       "      <th>연면적</th>\n",
       "      <th>사용승인일</th>\n",
       "      <th>...</th>\n",
       "      <th>승강기관리형태</th>\n",
       "      <th>승강기대수</th>\n",
       "      <th>주차대수</th>\n",
       "      <th>주차관제·홈네트워크</th>\n",
       "      <th>CCTV대수</th>\n",
       "      <th>부대·복리시설</th>\n",
       "      <th>버스정류장</th>\n",
       "      <th>지하철</th>\n",
       "      <th>편의시설</th>\n",
       "      <th>교육시설</th>\n",
       "    </tr>\n",
       "  </thead>\n",
       "  <tbody>\n",
       "    <tr>\n",
       "      <th>0</th>\n",
       "      <td>LG개포자이아파트(A13593901)</td>\n",
       "      <td>아파트</td>\n",
       "      <td>서울특별시 강남구 개포동 12-2 엘지개포자이</td>\n",
       "      <td>서울특별시 강남구 개포로109길 69</td>\n",
       "      <td>분양</td>\n",
       "      <td>자치관리</td>\n",
       "      <td>지역난방</td>\n",
       "      <td>계단식</td>\n",
       "      <td>60,358.78㎡</td>\n",
       "      <td>2004-06-17</td>\n",
       "      <td>...</td>\n",
       "      <td>위탁관리</td>\n",
       "      <td>6</td>\n",
       "      <td>지상: 19 / 지하: 483(총:502대)</td>\n",
       "      <td>무</td>\n",
       "      <td>58</td>\n",
       "      <td>관리사무소, 노인정, 어린이놀이터, 휴게시설, 자전거보관소</td>\n",
       "      <td>5분이내</td>\n",
       "      <td>3호선 (대청, 5~10분이내)</td>\n",
       "      <td>관공서(수서경찰서) 병원(삼성의료원) 공원(한마음공원)</td>\n",
       "      <td>초등학교(대진) 중학교(중동중학교) 고등학교(중동고등학교)</td>\n",
       "    </tr>\n",
       "  </tbody>\n",
       "</table>\n",
       "<p>1 rows × 37 columns</p>\n",
       "</div>"
      ],
      "text/plain": [
       "               명칭(단지코드) 단지분류                      법정동주소                 도로명주소  \\\n",
       "0  LG개포자이아파트(A13593901)  아파트  서울특별시 강남구 개포동 12-2 엘지개포자이  서울특별시 강남구 개포로109길 69   \n",
       "\n",
       "  분양형태  관리방식  난방방식 복도유형         연면적       사용승인일  ... 승강기관리형태 승강기대수  \\\n",
       "0   분양  자치관리  지역난방  계단식  60,358.78㎡  2004-06-17  ...    위탁관리     6   \n",
       "\n",
       "                       주차대수 주차관제·홈네트워크 CCTV대수  \\\n",
       "0  지상: 19 / 지하: 483(총:502대)          무     58   \n",
       "\n",
       "                            부대·복리시설 버스정류장                지하철  \\\n",
       "0  관리사무소, 노인정, 어린이놀이터, 휴게시설, 자전거보관소  5분이내  3호선 (대청, 5~10분이내)   \n",
       "\n",
       "                             편의시설                              교육시설  \n",
       "0  관공서(수서경찰서) 병원(삼성의료원) 공원(한마음공원)  초등학교(대진) 중학교(중동중학교) 고등학교(중동고등학교)  \n",
       "\n",
       "[1 rows x 37 columns]"
      ]
     },
     "execution_count": 22,
     "metadata": {},
     "output_type": "execute_result"
    }
   ],
   "source": [
    "df = DataFrame(\n",
    "                [data_list]\n",
    "                ,columns = 컬럼명_list\n",
    "                )\n",
    "\n",
    "df"
   ]
  },
  {
   "cell_type": "code",
   "execution_count": 23,
   "id": "42a0fde5",
   "metadata": {},
   "outputs": [],
   "source": [
    "def crol(A,B,C) :\n",
    "    # 크롬드라이버를 통해 크롬을 실행시킴\n",
    "    # -> driver 객체는 Chrome 자체\n",
    "    driver = webdriver.Chrome()\n",
    "    # 크롬브라우저가 준비될 때 까지 최대 5초씩 대기\n",
    "    driver.implicitly_wait(5)\n",
    "    driver.get(\"http://www.k-apt.go.kr/kaptinfo/openkaptinfo.do\")\n",
    "    # 페이지를 이동하는 동안 최대 2초간 대기\n",
    "    time.sleep(2)\n",
    "    button = WebDriverWait(driver, 3).until(\n",
    "                lambda x: x.find_element_by_css_selector(\"select[class='combo_SIDO']\"))\n",
    "    button.click()\n",
    "    time.sleep(1)\n",
    "    button = WebDriverWait(driver, 3).until(\n",
    "                lambda x: x.find_element_by_css_selector(\"option[value='11']\"))\n",
    "    button.click()\n",
    "    time.sleep(1)\n",
    "    button = WebDriverWait(driver, 3).until(\n",
    "                lambda x: x.find_element_by_css_selector(\"select[class='combo_SGG']\"))\n",
    "    button.click()\n",
    "    time.sleep(1)\n",
    "    button = WebDriverWait(driver, 3).until(\n",
    "                lambda x: x.find_element_by_css_selector(\"option[value='%d']\"%A))\n",
    "    button.click()\n",
    "    time.sleep(1)\n",
    "    button = WebDriverWait(driver, 3).until(lambda x: x.find_element_by_css_selector(\"li[value='%d']\"%B))\n",
    "    time.sleep(1)\n",
    "    button.click()\n",
    "    time.sleep(1)\n",
    "    button = WebDriverWait(driver, 3).until(lambda x: x.find_element_by_css_selector(\"tr[id='%d']\"%C))\n",
    "    button.click()\n",
    "    time.sleep(1)\n",
    "    button = WebDriverWait(driver, 3).until(\n",
    "                lambda x: x.find_element_by_css_selector(\"img[src='/images/sub/tab_kaptinfo5_out.png']\"))\n",
    "    button.click()\n",
    "    \n",
    "    html = driver.page_source\n",
    "    soup = BeautifulSoup(html, \"html.parser\")\n",
    "    \n",
    "    #종료하기전 동안 최대 2초간 대기\n",
    "    time.sleep(2)\n",
    "    driver.quit()\n",
    "    id = soup.find_all('td',id=True)\n",
    "    id\n",
    "    \n",
    "    id_list = []\n",
    "    for it in id:\n",
    "    # 각 원소(링크)에 속성들(attrs) 중에 id 속성이 있다면 그 값을 별도로 준비한 리스트에 추가\n",
    "        if \"id\" in it.attrs:\n",
    "            id_list.append(it['id'])\n",
    "\n",
    "    \n",
    "    id_list\n",
    "    name = soup.find_all('th',class_='type')\n",
    "    name\n",
    "    \n",
    "    컬럼명_list = []\n",
    "\n",
    "    for i in name:\n",
    "        k = i.text.strip()\n",
    "        컬럼명_list.append(k)\n",
    "\n",
    "    컬럼명_list\n",
    "    apt = []\n",
    "    apt_dict = {}\n",
    "    tmp = []\n",
    "    data_list = []\n",
    "    for i,v in enumerate(컬럼명_list) :\n",
    "        data = soup.select(\"#%s\"%id_list[i])\n",
    "        tmp.append(data)\n",
    "    for i, in tmp :\n",
    "        data_list.append(i.text.strip())\n",
    "    data_list\n",
    "    \n",
    "    #전역번수 호출\n",
    "    global df\n",
    "    \n",
    "    df = df.append(pd.Series(data_list,index=df.columns), ignore_index=True)\n",
    "    return df"
   ]
  },
  {
   "cell_type": "code",
   "execution_count": 24,
   "id": "364821dc",
   "metadata": {},
   "outputs": [],
   "source": [
    "def tmp(Gu,Dong) :\n",
    "    # 크롬드라이버를 통해 크롬을 실행시킴\n",
    "    # -> driver 객체는 Chrome 자체\n",
    "    driver = webdriver.Chrome()\n",
    "    # 크롬브라우저가 준비될 때 까지 최대 5초씩 대기\n",
    "    driver.implicitly_wait(5)\n",
    "    driver.get(\"http://www.k-apt.go.kr/kaptinfo/openkaptinfo.do\")\n",
    "    # 페이지를 이동하는 동안 최대 3초간 대기\n",
    "    time.sleep(3)\n",
    "    button = WebDriverWait(driver, 3).until(\n",
    "                    lambda x: x.find_element_by_css_selector(\"select[class='combo_SIDO']\"))\n",
    "    button.click()\n",
    "    button = WebDriverWait(driver, 3).until(\n",
    "                    lambda x: x.find_element_by_css_selector(\"option[value='11']\"))\n",
    "    button.click()\n",
    "    button = WebDriverWait(driver, 3).until(\n",
    "                    lambda x: x.find_element_by_css_selector(\"select[class='combo_SGG']\"))\n",
    "    button.click()\n",
    "    button = WebDriverWait(driver, 3).until(\n",
    "                    lambda x: x.find_element_by_css_selector(\"option[value='%d']\"%Gu))\n",
    "    button.click()\n",
    "    button = WebDriverWait(driver, 3).until(\n",
    "                    lambda x: x.find_element_by_css_selector(\"option[value='%d']\"%Dong))\n",
    "    button.click()\n",
    "\n",
    "    html = driver.page_source\n",
    "    soup = BeautifulSoup(html, \"html.parser\")\n",
    "\n",
    "\n",
    "    #종료하기전 동안 최대 2초간 대기\n",
    "    time.sleep(3)\n",
    "    driver.quit()\n",
    "\n",
    "    단지 = soup.find_all( 'tr' , \"ui-widget-content jqgrow ui-row-ltr\" )\n",
    "\n",
    "\n",
    "    단지_list = []\n",
    "    for it in 단지:\n",
    "        # 각 원소(링크)에 속성들(attrs) 중에 특정 속성이 있다면 그 값을 별도로 준비한 리스트에 추가\n",
    "        if \"id\" in it.attrs:\n",
    "            단지_list.append(it['id'])\n",
    "\n",
    "    print(단지_list)        \n",
    "    단지_list = list(map(int, 단지_list))\n",
    "\n",
    "\n",
    "    #함수에 넣을 조합 만들기\n",
    "    tmp_list = [Dong]\n",
    "    result2 = list(itertools.product(*[tmp_list,단지_list]))\n",
    "    print(\"해당동의 단지 수 : %s개\" % len(result2))\n",
    "    #print(result2)\n",
    "\n",
    "    for j,v in enumerate(result2) :\n",
    "        try :\n",
    "            B,C = v\n",
    "            crol(Gu,B,C)\n",
    "            print(\"{},{},{} -------->크롤링 성공\".format(Gu,B,C))\n",
    "        except Exception as e:\n",
    "            print(\"{},{},{}에서 애러 상황 발생\".format(Gu,B,C) , e)\n",
    "            pass       "
   ]
  },
  {
   "cell_type": "code",
   "execution_count": 25,
   "id": "b26adb4d",
   "metadata": {
    "tags": []
   },
   "outputs": [],
   "source": [
    "class SeoulApt :\n",
    "    def __init__(self) :\n",
    "        print('SeoulApt 클래스 선언')\n",
    "        \n",
    "\n",
    "    def 조합1(self, Gu) :\n",
    "        # 크롬드라이버를 통해 크롬을 실행시킴\n",
    "        # -> driver 객체는 Chrome 자체\n",
    "        driver = webdriver.Chrome()\n",
    "        # 크롬브라우저가 준비될 때 까지 최대 3초씩 대기 \n",
    "        driver.implicitly_wait(3)\n",
    "        driver.get(\"http://www.k-apt.go.kr/kaptinfo/openkaptinfo.do\")\n",
    "        # 페이지를 이동하는 동안 최대 2초간 대기\n",
    "        time.sleep(2)\n",
    "        button = WebDriverWait(driver, 3).until(\n",
    "                        lambda x: x.find_element_by_css_selector(\"select[class='combo_SIDO']\"))\n",
    "        button.click()\n",
    "        button = WebDriverWait(driver, 3).until(\n",
    "                        lambda x: x.find_element_by_css_selector(\"option[value='11']\"))\n",
    "        button.click()\n",
    "        button = WebDriverWait(driver, 3).until(\n",
    "                        lambda x: x.find_element_by_css_selector(\"select[class='combo_SGG']\"))\n",
    "        button.click()\n",
    "\n",
    "        button = WebDriverWait(driver, 3).until(\n",
    "                        lambda x: x.find_element_by_css_selector(\"option[value='%d']\"%Gu))\n",
    "        button.click()\n",
    "        \n",
    "        button = WebDriverWait(driver, 3).until(\n",
    "                        lambda x: x.find_element_by_css_selector(\"option[value='103']\"))\n",
    "        button.click()\n",
    "                \n",
    "        html = driver.page_source\n",
    "        #print(html)\n",
    "        soup = BeautifulSoup(html, \"html.parser\")\n",
    "        #print(soup)\n",
    "\n",
    "        동 = soup.find_all( 'li' , \"name\" )\n",
    "        동    \n",
    "\n",
    "\n",
    "        동_list = []\n",
    "        for it in 동:\n",
    "            # 각 원소(링크)에 속성들(attrs) 중에 특정 속성이 있다면 그 값을 별도로 준비한 리스트에 추가\n",
    "            if \"value\" in it.attrs:\n",
    "                동_list.append(it['value'])\n",
    "\n",
    "        #동_list\n",
    "        동_list = list(map(int, 동_list))\n",
    "        print(동_list)\n",
    "\n",
    "        #종료하기전 동안 최대 2초간 대기\n",
    "        time.sleep(5)\n",
    "        driver.quit()\n",
    "\n",
    "        #함수에 넣을 조합 만들기\n",
    "        tmp_list = [Gu]\n",
    "        result = list(itertools.product(*[tmp_list,동_list]))\n",
    "        print(\"동의 수 : %s개\" % len(result))\n",
    "        print(result)\n",
    "        for i,v in enumerate (result) :\n",
    "            try :\n",
    "                X,Y = result[i]\n",
    "                print(X,Y)\n",
    "                tmp(X,Y)\n",
    "            except Exception as e:\n",
    "                print('{},{}에서 예외상황 발생'.format(X,Y))\n",
    "    \n",
    "    def 조합2(self, Gu,Dong) :\n",
    "        # 크롬드라이버를 통해 크롬을 실행시킴\n",
    "        # -> driver 객체는 Chrome 자체\n",
    "        driver = webdriver.Chrome()\n",
    "        # 크롬브라우저가 준비될 때 까지 최대 5초씩 대기\n",
    "        driver.implicitly_wait(5)\n",
    "        driver.get(\"http://www.k-apt.go.kr/kaptinfo/openkaptinfo.do\")\n",
    "        # 페이지를 이동하는 동안 최대 3초간 대기\n",
    "        time.sleep(3)\n",
    "        button = WebDriverWait(driver, 3).until(\n",
    "                        lambda x: x.find_element_by_css_selector(\"select[class='combo_SIDO']\"))\n",
    "        button.click()\n",
    "        button = WebDriverWait(driver, 3).until(\n",
    "                        lambda x: x.find_element_by_css_selector(\"option[value='11']\"))\n",
    "        button.click()\n",
    "        button = WebDriverWait(driver, 3).until(\n",
    "                        lambda x: x.find_element_by_css_selector(\"select[class='combo_SGG']\"))\n",
    "        button.click()\n",
    "        button = WebDriverWait(driver, 3).until(\n",
    "                        lambda x: x.find_element_by_css_selector(\"option[value='%d']\"%Gu))\n",
    "        button.click()\n",
    "        button = WebDriverWait(driver, 3).until(\n",
    "                        lambda x: x.find_element_by_css_selector(\"option[value='%d']\"%Dong))\n",
    "        button.click()\n",
    "        \n",
    "        html = driver.page_source\n",
    "        soup = BeautifulSoup(html, \"html.parser\")\n",
    "\n",
    "        \n",
    "        #종료하기전 동안 최대 2초간 대기\n",
    "        time.sleep(3)\n",
    "        driver.quit()\n",
    "        \n",
    "        단지 = soup.find_all( 'tr' , \"ui-widget-content jqgrow ui-row-ltr\" )\n",
    "              \n",
    "        단지_list = []\n",
    "        for it in 단지:\n",
    "            # 각 원소(링크)에 속성들(attrs) 중에 특정 속성이 있다면 그 값을 별도로 준비한 리스트에 추가\n",
    "            if \"id\" in it.attrs:\n",
    "                단지_list.append(it['id'])\n",
    "\n",
    "        print(단지_list)        \n",
    "        단지_list = list(map(int, 단지_list))\n",
    "\n",
    "\n",
    "        #함수에 넣을 조합 만들기\n",
    "        tmp_list = [Dong]\n",
    "        result2 = list(itertools.product(*[tmp_list,단지_list]))\n",
    "        print(\"해당동의 단지 수 : %s개\" % len(result2))\n",
    "        print(result2)\n",
    "\n",
    "        for j,v in enumerate(result2) :\n",
    "            try :\n",
    "                B,C = v\n",
    "                crol(Gu,B,C)\n",
    "                print(\"{},{},{} -------->크롤링 성공\".format(Gu,B,C))\n",
    "            except Exception as e:\n",
    "                print(\"{},{},{}에서 애러 상황 발생\".format(Gu,B,C) , e)\n",
    "                pass        "
   ]
  },
  {
   "cell_type": "code",
   "execution_count": 26,
   "id": "57c7eb39",
   "metadata": {
    "tags": []
   },
   "outputs": [],
   "source": [
    "gu_list = [680,740,305,500,620,215,530,545,350,320,230,590,440,410,650,200,290,710,470,560,170,380,110,140,260]"
   ]
  },
  {
   "cell_type": "markdown",
   "id": "e3b38ba4",
   "metadata": {},
   "source": [
    "# 분할해서 크롤링"
   ]
  },
  {
   "cell_type": "code",
   "execution_count": 27,
   "id": "d47f2151",
   "metadata": {},
   "outputs": [
    {
     "name": "stdout",
     "output_type": "stream",
     "text": [
      "[680, 740, 305, 500, 620]\n"
     ]
    }
   ],
   "source": [
    "gu_A=gu_list[:5]\n",
    "print(gu_A)"
   ]
  },
  {
   "cell_type": "code",
   "execution_count": 28,
   "id": "6544c8dc",
   "metadata": {},
   "outputs": [
    {
     "name": "stdout",
     "output_type": "stream",
     "text": [
      "[215, 530, 545, 350, 320]\n"
     ]
    }
   ],
   "source": [
    "gu_B=gu_list[5:10]\n",
    "print(gu_B)"
   ]
  },
  {
   "cell_type": "code",
   "execution_count": 29,
   "id": "a23a16c4",
   "metadata": {
    "tags": []
   },
   "outputs": [
    {
     "name": "stdout",
     "output_type": "stream",
     "text": [
      "[230, 590, 440, 410, 650]\n"
     ]
    }
   ],
   "source": [
    "gu_C=gu_list[10:15]\n",
    "print(gu_C)"
   ]
  },
  {
   "cell_type": "code",
   "execution_count": 30,
   "id": "146cea76",
   "metadata": {},
   "outputs": [
    {
     "name": "stdout",
     "output_type": "stream",
     "text": [
      "[200, 290, 710, 470, 560]\n"
     ]
    }
   ],
   "source": [
    "gu_D=gu_list[15:20]\n",
    "print(gu_D)"
   ]
  },
  {
   "cell_type": "code",
   "execution_count": 34,
   "id": "c67d7eef",
   "metadata": {},
   "outputs": [
    {
     "name": "stdout",
     "output_type": "stream",
     "text": [
      "[200, 290, 710, 470, 560]\n"
     ]
    }
   ],
   "source": [
    "gu_E=gu_list[15:20]\n",
    "print(gu_E)"
   ]
  },
  {
   "cell_type": "code",
   "execution_count": 36,
   "id": "04bc6a15",
   "metadata": {},
   "outputs": [
    {
     "name": "stdout",
     "output_type": "stream",
     "text": [
      "SeoulApt 클래스 선언\n"
     ]
    }
   ],
   "source": [
    "A = SeoulApt()"
   ]
  },
  {
   "cell_type": "markdown",
   "id": "c1a8027a",
   "metadata": {},
   "source": [
    "# gu_list 대신 자신의 범위를 입력 ex)gu_A"
   ]
  },
  {
   "cell_type": "code",
   "execution_count": null,
   "id": "e22f2f7d",
   "metadata": {
    "tags": []
   },
   "outputs": [],
   "source": [
    "for i in gu_list :\n",
    "    try :\n",
    "        A.조합1(i)\n",
    "    except Exception as e:\n",
    "        print(\"%d 에서 예외 발생\"%i)"
   ]
  },
  {
   "cell_type": "code",
   "execution_count": 38,
   "id": "7a24ebea",
   "metadata": {},
   "outputs": [
    {
     "data": {
      "text/html": [
       "<div>\n",
       "<style scoped>\n",
       "    .dataframe tbody tr th:only-of-type {\n",
       "        vertical-align: middle;\n",
       "    }\n",
       "\n",
       "    .dataframe tbody tr th {\n",
       "        vertical-align: top;\n",
       "    }\n",
       "\n",
       "    .dataframe thead th {\n",
       "        text-align: right;\n",
       "    }\n",
       "</style>\n",
       "<table border=\"1\" class=\"dataframe\">\n",
       "  <thead>\n",
       "    <tr style=\"text-align: right;\">\n",
       "      <th></th>\n",
       "      <th>명칭(단지코드)</th>\n",
       "      <th>단지분류</th>\n",
       "      <th>법정동주소</th>\n",
       "      <th>도로명주소</th>\n",
       "      <th>분양형태</th>\n",
       "      <th>관리방식</th>\n",
       "      <th>난방방식</th>\n",
       "      <th>복도유형</th>\n",
       "      <th>연면적</th>\n",
       "      <th>사용승인일</th>\n",
       "      <th>...</th>\n",
       "      <th>승강기관리형태</th>\n",
       "      <th>승강기대수</th>\n",
       "      <th>주차대수</th>\n",
       "      <th>주차관제·홈네트워크</th>\n",
       "      <th>CCTV대수</th>\n",
       "      <th>부대·복리시설</th>\n",
       "      <th>버스정류장</th>\n",
       "      <th>지하철</th>\n",
       "      <th>편의시설</th>\n",
       "      <th>교육시설</th>\n",
       "    </tr>\n",
       "  </thead>\n",
       "  <tbody>\n",
       "  </tbody>\n",
       "</table>\n",
       "<p>0 rows × 37 columns</p>\n",
       "</div>"
      ],
      "text/plain": [
       "Empty DataFrame\n",
       "Columns: [명칭(단지코드), 단지분류, 법정동주소, 도로명주소, 분양형태, 관리방식, 난방방식, 복도유형, 연면적, 사용승인일, 동수 / 세대수, 주거전용면적, 시공사 / 시행사, 홈페이지주소, 관리사무소연락처(FAX), K-apt 가입일, 면적별 세대현황(전용면적 기준), 일반관리, 경비관리, 청소관리, 소독관리, 건물구조, 수전용량, 세대전기계약방식, 전기안전관리자법정선임여부, 화재수신반방식, 급수방식, 승강기관리형태, 승강기대수, 주차대수, 주차관제·홈네트워크, CCTV대수, 부대·복리시설, 버스정류장, 지하철, 편의시설, 교육시설]\n",
       "Index: []\n",
       "\n",
       "[0 rows x 37 columns]"
      ]
     },
     "execution_count": 38,
     "metadata": {},
     "output_type": "execute_result"
    }
   ],
   "source": [
    "# 실험용 첫제행 제거\n",
    "df = df.drop(index=0, axis=0)\n",
    "df"
   ]
  },
  {
   "cell_type": "markdown",
   "id": "c3ec92fb",
   "metadata": {},
   "source": [
    "# 애러 확인 후 추가\n",
    "## ex crol(680,103,1)"
   ]
  },
  {
   "cell_type": "markdown",
   "id": "1bba3e8a",
   "metadata": {},
   "source": [
    "# 다음의 형식으로 저장"
   ]
  },
  {
   "cell_type": "code",
   "execution_count": 33,
   "id": "20685c28",
   "metadata": {},
   "outputs": [],
   "source": [
    "df.to_excel('아파트단지gu_A.xlsx',index=False)"
   ]
  },
  {
   "cell_type": "code",
   "execution_count": 34,
   "id": "9c488834",
   "metadata": {},
   "outputs": [],
   "source": [
    "df.to_excel('아파트단지gu_A_idx.xlsx',index=True)"
   ]
  }
 ],
 "metadata": {
  "kernelspec": {
   "display_name": "Python 3",
   "language": "python",
   "name": "python3"
  },
  "language_info": {
   "codemirror_mode": {
    "name": "ipython",
    "version": 3
   },
   "file_extension": ".py",
   "mimetype": "text/x-python",
   "name": "python",
   "nbconvert_exporter": "python",
   "pygments_lexer": "ipython3",
   "version": "3.8.8"
  }
 },
 "nbformat": 4,
 "nbformat_minor": 5
}
